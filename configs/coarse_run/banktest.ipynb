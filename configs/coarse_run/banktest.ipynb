{
 "cells": [
  {
   "cell_type": "code",
   "execution_count": 1,
   "metadata": {},
   "outputs": [
    {
     "name": "stderr",
     "output_type": "stream",
     "text": [
      "/Users/kanchansoni/anaconda3/envs/proj_hyperbolic/lib/python3.11/site-packages/pycbc/types/array.py:36: UserWarning: Wswiglal-redir-stdio:\n",
      "\n",
      "SWIGLAL standard output/error redirection is enabled in IPython.\n",
      "This may lead to performance penalties. To disable locally, use:\n",
      "\n",
      "with lal.no_swig_redirect_standard_output_error():\n",
      "    ...\n",
      "\n",
      "To disable globally, use:\n",
      "\n",
      "lal.swig_redirect_standard_output_error(False)\n",
      "\n",
      "Note however that this will likely lead to error messages from\n",
      "LAL functions being either misdirected or lost when called from\n",
      "Jupyter notebooks.\n",
      "\n",
      "To suppress this warning, use:\n",
      "\n",
      "import warnings\n",
      "warnings.filterwarnings(\"ignore\", \"Wswiglal-redir-stdio\")\n",
      "import lal\n",
      "\n",
      "  import lal as _lal\n",
      "PyCBC.libutils: pkg-config call failed, setting NO_PKGCONFIG=1\n"
     ]
    }
   ],
   "source": [
    "import numpy as np\n",
    "import h5py as h\n",
    "import matplotlib.pyplot as plt\n",
    "import pycbc.pnutils as pnu\n"
   ]
  },
  {
   "cell_type": "code",
   "execution_count": 2,
   "metadata": {},
   "outputs": [],
   "source": [
    "\n",
    "bank = h.File('../../../gen_banks/gen_coarsebank/buffer4_512s/O3_O4_SEOBNRv5HM_bank_mm_90_15Hz.hdf', 'r')\n"
   ]
  },
  {
   "cell_type": "code",
   "execution_count": 3,
   "metadata": {},
   "outputs": [
    {
     "ename": "SyntaxError",
     "evalue": "invalid syntax (907891502.py, line 3)",
     "output_type": "error",
     "traceback": [
      "\u001b[0;36m  Cell \u001b[0;32mIn[3], line 3\u001b[0;36m\u001b[0m\n\u001b[0;31m    1.0358847528799187 132.42460525030646\u001b[0m\n\u001b[0m                       ^\u001b[0m\n\u001b[0;31mSyntaxError\u001b[0m\u001b[0;31m:\u001b[0m invalid syntax\n"
     ]
    }
   ],
   "source": [
    "print (np.min(bank['mass1']), np.max(bank['mass1']))\n",
    "print (np.min(bank['mass2']), np.max(bank['mass2']))\n",
    "1.0358847528799187 132.42460525030646\n",
    "0.1429440702430777 9.549353119966131"
   ]
  },
  {
   "cell_type": "code",
   "execution_count": 4,
   "metadata": {},
   "outputs": [
    {
     "name": "stdout",
     "output_type": "stream",
     "text": [
      "0.24239641189689407\n",
      "-0.3898269695225417\n",
      "-0.06444802281463996\n"
     ]
    }
   ],
   "source": [
    "print (bank['mass2'][bank['mass1']== 1.0358847528799187])\n",
    "print (bank['spin1z'][bank['mass1']== 1.0358847528799187])\n",
    "print (bank['spin2z'][bank['mass1']== 1.0358847528799187])\n",
    "\n",
    "# z =  bank['mass1'][:]== 1.0358847528799187\n",
    "# np.where(z==True) 5128544\n",
    " "
   ]
  },
  {
   "cell_type": "code",
   "execution_count": 7,
   "metadata": {},
   "outputs": [
    {
     "name": "stdout",
     "output_type": "stream",
     "text": [
      "approximant b'SEOBNRv5HM'\n",
      "f_lower 20.0\n",
      "mass1 1.0358847528799187\n",
      "mass2 1.034406210273717\n",
      "mode_array 22.0\n",
      "spin1z -0.15796654000577182\n",
      "spin2z -0.018863033042096487\n",
      "template_hash 1.083282045614457e+19\n"
     ]
    }
   ],
   "source": [
    "for i in bank.keys():\n",
    "    print (i, bank[i][5128544])"
   ]
  },
  {
   "cell_type": "code",
   "execution_count": null,
   "metadata": {},
   "outputs": [],
   "source": []
  },
  {
   "cell_type": "code",
   "execution_count": 8,
   "metadata": {},
   "outputs": [
    {
     "name": "stdout",
     "output_type": "stream",
     "text": [
      "291.59548104471935\n"
     ]
    }
   ],
   "source": [
    "print (pnu.get_imr_duration(\n",
    "           1.0358847528799187,1.034406210273717, \n",
    "            -0.15796654000577182,-0.018863033042096487, 20, \"IMRPhenomD\"\n",
    "        ))\n",
    " "
   ]
  },
  {
   "cell_type": "code",
   "execution_count": 15,
   "metadata": {},
   "outputs": [],
   "source": [
    "# minibank = h.File('../../o3b_run/minibank.hdf', 'r') \n",
    "minibank    = h.File('../../../gen_banks/gen_coarsebank/buffer4_512s/O3_O4_SEOBNRv5HM_bank_mm_90_15Hz.hdf', 'r')"
   ]
  },
  {
   "cell_type": "code",
   "execution_count": null,
   "metadata": {},
   "outputs": [],
   "source": [
    "#spin1z =  a_1 * np.cos(tilt_1)"
   ]
  },
  {
   "cell_type": "code",
   "execution_count": null,
   "metadata": {},
   "outputs": [],
   "source": [
    " duration = []\n",
    " for i in range(len(minibank['mass1'])):\n",
    "    duration.append(pnu.get_imr_duration(\n",
    "            minibank['mass1'][i], minibank['mass2'][i], \n",
    "            minibank['spin1z'][i],minibank['spin2z'][i], 20, \"IMRPhenomD\"\n",
    "        ))"
   ]
  },
  {
   "cell_type": "code",
   "execution_count": null,
   "metadata": {},
   "outputs": [
    {
     "data": {
      "text/plain": [
       "(np.float64(210.51216797768697), np.float64(250.581122505137))"
      ]
     },
     "execution_count": 14,
     "metadata": {},
     "output_type": "execute_result"
    }
   ],
   "source": [
    "np.min(np.asarray(duration)),np.max(np.asarray(duration))"
   ]
  },
  {
   "cell_type": "code",
   "execution_count": null,
   "metadata": {},
   "outputs": [],
   "source": []
  }
 ],
 "metadata": {
  "kernelspec": {
   "display_name": "proj_hyperbolic",
   "language": "python",
   "name": "python3"
  },
  "language_info": {
   "codemirror_mode": {
    "name": "ipython",
    "version": 3
   },
   "file_extension": ".py",
   "mimetype": "text/x-python",
   "name": "python",
   "nbconvert_exporter": "python",
   "pygments_lexer": "ipython3",
   "version": "3.11.11"
  }
 },
 "nbformat": 4,
 "nbformat_minor": 2
}
